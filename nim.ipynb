{
  "nbformat": 4,
  "nbformat_minor": 0,
  "metadata": {
    "colab": {
      "name": "nim.ipynb",
      "provenance": [],
      "collapsed_sections": []
    },
    "kernelspec": {
      "name": "python3",
      "display_name": "Python 3"
    }
  },
  "cells": [
    {
      "cell_type": "code",
      "metadata": {
        "colab": {
          "base_uri": "https://localhost:8080/"
        },
        "id": "MFKnL7p7gem9",
        "outputId": "e03c877a-7a2c-4522-bc9a-cbad0c0cc71c"
      },
      "source": [
        "# Google Colabでnimを使用するためのインストール\r\n",
        "!pip install git+https://github.com/demotomohiro/nim4colab.git\r\n",
        "\r\n",
        "# Google Colabでnimを使用するためのマジックコマンド\r\n",
        "%load_ext nim4colab"
      ],
      "execution_count": null,
      "outputs": [
        {
          "output_type": "stream",
          "text": [
            "Collecting git+https://github.com/demotomohiro/nim4colab.git\n",
            "  Cloning https://github.com/demotomohiro/nim4colab.git to /tmp/pip-req-build-cdlvhuyo\n",
            "  Running command git clone -q https://github.com/demotomohiro/nim4colab.git /tmp/pip-req-build-cdlvhuyo\n",
            "Building wheels for collected packages: nim4colab\n",
            "  Building wheel for nim4colab (setup.py) ... \u001b[?25l\u001b[?25hdone\n",
            "  Created wheel for nim4colab: filename=nim4colab-0.1-cp37-none-any.whl size=3119 sha256=a0fe5aa31d00a5d9f118276084d5a975d661b2ce0277486ae52de29bb8b1eef9\n",
            "  Stored in directory: /tmp/pip-ephem-wheel-cache-abgpc6zo/wheels/b6/9b/69/6510e7f4b3a1875e03b5e7f58b2bdbbd2e929c40005376cddc\n",
            "Successfully built nim4colab\n",
            "Installing collected packages: nim4colab\n",
            "Successfully installed nim4colab-0.1\n"
          ],
          "name": "stdout"
        }
      ]
    },
    {
      "cell_type": "code",
      "metadata": {
        "colab": {
          "base_uri": "https://localhost:8080/"
        },
        "id": "JRukkeDNg3BH",
        "outputId": "a37a1db3-34ef-4b4b-c24b-c6b48a88ed5c"
      },
      "source": [
        "# nimpyのインストール。後述の fib.nim内で使っているnimpyをコンパイル、使用するためにインストール必須\r\n",
        "%nimble install nimpy -y"
      ],
      "execution_count": null,
      "outputs": [
        {
          "output_type": "stream",
          "text": [
            "    Prompt: No local packages.json found, download it from internet? -> [forced yes]\n",
            "Downloading Official package list\n",
            "    Success Package list downloaded.\n",
            "Downloading https://github.com/yglukhov/nimpy using git\n",
            "  Verifying dependencies for nimpy@0.1.1\n",
            " Installing nimpy@0.1.1\n",
            "   Success: nimpy installed successfully.\n",
            "\n"
          ],
          "name": "stdout"
        }
      ]
    },
    {
      "cell_type": "code",
      "metadata": {
        "id": "TTJUAkaCpcfW"
      },
      "source": [
        "import time"
      ],
      "execution_count": null,
      "outputs": []
    },
    {
      "cell_type": "markdown",
      "metadata": {
        "id": "t_VCNUzVJqST"
      },
      "source": [
        "### 通常のpythonでフィボナッチ数を出力する関数"
      ]
    },
    {
      "cell_type": "code",
      "metadata": {
        "id": "bCGQxvPqe7Y3"
      },
      "source": [
        "def fib(n):\r\n",
        "    if n == 0:\r\n",
        "        return 0 \r\n",
        "    elif n <3:\r\n",
        "        return 1 \r\n",
        "    return fib(n-1) + fib(n-2)"
      ],
      "execution_count": null,
      "outputs": []
    },
    {
      "cell_type": "code",
      "metadata": {
        "colab": {
          "base_uri": "https://localhost:8080/"
        },
        "id": "TQW_A2KBoIdD",
        "outputId": "04a6e4ae-74f2-47c0-f49c-e27ba0af3dac"
      },
      "source": [
        "start = time.time()\r\n",
        "\r\n",
        "print(fib(45))\r\n",
        "\r\n",
        "elapsed_time = time.time() - start\r\n",
        "print (f\"elapsed_time:{elapsed_time}[sec]\")"
      ],
      "execution_count": null,
      "outputs": [
        {
          "output_type": "stream",
          "text": [
            "1134903170\n",
            "elapsed_time:311.9059429168701[sec]\n"
          ],
          "name": "stdout"
        }
      ]
    },
    {
      "cell_type": "markdown",
      "metadata": {
        "id": "MKCsnonnJykv"
      },
      "source": [
        "### Nim でフィボナッチ数を出力"
      ]
    },
    {
      "cell_type": "code",
      "metadata": {
        "colab": {
          "base_uri": "https://localhost:8080/"
        },
        "id": "aZnHDUoXfExk",
        "outputId": "ca098dbe-4c5a-499a-84e5-126dcdaa3dfb"
      },
      "source": [
        "# セル内のfib関数をfib.minとして書き出し\r\n",
        "%%writefile fib.nim\r\n",
        "import nimpy\r\n",
        "\r\n",
        "proc fib(n: int): int {.exportpy.} =\r\n",
        "    if n == 0:\r\n",
        "        return 0\r\n",
        "    elif n < 3:\r\n",
        "        return 1\r\n",
        "    return fib(n-1) + fib(n-2)"
      ],
      "execution_count": null,
      "outputs": [
        {
          "output_type": "stream",
          "text": [
            "Writing fib.nim\n"
          ],
          "name": "stdout"
        }
      ]
    },
    {
      "cell_type": "code",
      "metadata": {
        "colab": {
          "base_uri": "https://localhost:8080/"
        },
        "id": "X9hUjyon5suT",
        "outputId": "d452cca2-b5bc-4830-929a-34f891389c3c"
      },
      "source": [
        "# fib.nim のコンパイル\r\n",
        "%nim c --tlsEmulation:off --app:lib --out:fib.so fib.nim"
      ],
      "execution_count": null,
      "outputs": [
        {
          "output_type": "stream",
          "text": [
            "Hint: used config file '/root/nim-stable/nim/config/nim.cfg' [Conf]\n",
            "Hint: used config file '/root/nim-stable/nim/config/config.nims' [Conf]\n",
            "...............................CC: stdlib_assertions.nim\n",
            "CC: stdlib_system.nim\n",
            "CC: stdlib_strutils.nim\n",
            "CC: stdlib_dynlib.nim\n",
            "CC: stdlib_times.nim\n",
            "CC: stdlib_os.nim\n",
            "CC: ../root/.nimble/pkgs/nimpy-0.1.1/nimpy/py_types.nim\n",
            "CC: ../root/.nimble/pkgs/nimpy-0.1.1/nimpy/py_lib.nim\n",
            "CC: ../root/.nimble/pkgs/nimpy-0.1.1/nimpy/py_utils.nim\n",
            "CC: ../root/.nimble/pkgs/nimpy-0.1.1/nimpy.nim\n",
            "CC: fib.nim\n",
            "\n",
            "Hint:  [Link]\n",
            "Hint: 54983 lines; 2.165s; 76.09MiB peakmem; Debug build; proj: /content/fib.nim; out: /content/fib.so [SuccessX]\n",
            "\n"
          ],
          "name": "stdout"
        }
      ]
    },
    {
      "cell_type": "code",
      "metadata": {
        "id": "alNp-PH3f6EY"
      },
      "source": [
        "import sys\r\n",
        "\r\n",
        "# ライブラリのインポート先を追加\r\n",
        "sys.path.append(\"/content\")\r\n",
        "\r\n",
        "# 作成・コンパイルしたfibファイルをインポート\r\n",
        "import fib"
      ],
      "execution_count": null,
      "outputs": []
    },
    {
      "cell_type": "code",
      "metadata": {
        "colab": {
          "base_uri": "https://localhost:8080/"
        },
        "id": "tESKNFsCwukq",
        "outputId": "48a3c374-d01f-478a-8572-c61f5b5798db"
      },
      "source": [
        "start = time.time()\r\n",
        "\r\n",
        "print(fib.fib(45))\r\n",
        "\r\n",
        "elapsed_time = time.time() - start\r\n",
        "print (f\"elapsed_time:{elapsed_time}[sec]\")"
      ],
      "execution_count": null,
      "outputs": [
        {
          "output_type": "stream",
          "text": [
            "1134903170\n",
            "elapsed_time:31.022053956985474[sec]\n"
          ],
          "name": "stdout"
        }
      ]
    }
  ]
}